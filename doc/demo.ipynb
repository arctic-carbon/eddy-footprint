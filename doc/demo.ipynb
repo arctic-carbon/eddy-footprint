{
 "cells": [
  {
   "attachments": {},
   "cell_type": "markdown",
   "metadata": {},
   "source": [
    "# Eddy-footprint Demo"
   ]
  },
  {
   "attachments": {},
   "cell_type": "markdown",
   "metadata": {},
   "source": [
    "Author: Ludda Ludwig"
   ]
  },
  {
   "attachments": {},
   "cell_type": "markdown",
   "metadata": {},
   "source": [
    "## Overview\n",
    "\n",
    "### What is eddy-footprint?\n",
    "eddy-footprint is an open source python package for generating footprints for eddy covariance sites.\n",
    "\n",
    "## What is in this notebook?\n",
    "An example dataset of eddy covaraince fluxes.\n",
    "One day of footprints are generated using two types of footprint models.\n",
    "These footprints are made using the default domain extent (1000 meters) and resolution (5 meters).\n",
    "These footprints are made using parallelization at the rotation-interpolation step.\n",
    "These footprints are summed to create a daily composite image.\n",
    "\n",
    "Footprints can be used internally as xarray objects for visualization or exported as netCDF files.\n",
    "\n",
    "Examples are shown for plotting daily composite footprints.\n",
    "\n",
    "Examples are shown for plotting a time-series of footprints as a facetgrid in xarray.\n"
   ]
  },
  {
   "cell_type": "code",
   "execution_count": null,
   "metadata": {},
   "outputs": [],
   "source": [
    "import eddy_footprint as ef\n",
    "import pandas as pd\n",
    "import numpy as np\n",
    "from matplotlib import pyplot as plt\n",
    "import xarray as xr"
   ]
  },
  {
   "attachments": {},
   "cell_type": "markdown",
   "metadata": {},
   "source": [
    "## Load the data\n",
    "Note:  \n",
    "eddy-footprint does not QA/QC or u* filter your eddy covariance data.  \n",
    "Bad flux observations should be filtered before calculating footprints or, care should be taken to remove or avoid interpretting footprints for bad fluxes."
   ]
  },
  {
   "cell_type": "code",
   "execution_count": null,
   "metadata": {},
   "outputs": [],
   "source": [
    "demo_datapath = \"../data/demo.csv\"\n",
    "stable_datapath = \"../data/stable_test.csv\"\n",
    "unstable_datapath = \"../data/unstable_test.csv\"\n",
    "neutral_datapath = \"../data/neutral_test.csv\"\n",
    "df_demo = pd.read_csv(\n",
    "    demo_datapath,\n",
    "    parse_dates=[1],\n",
    "    na_values=\"NA\",\n",
    "    delimiter=\" *, *\",\n",
    "    index_col=False,\n",
    "    engine=\"python\",\n",
    ")\n",
    "df_stable = pd.read_csv(\n",
    "    stable_datapath,\n",
    "    parse_dates=[1],\n",
    "    na_values=\"NA\",\n",
    "    delimiter=\" *, *\",\n",
    "    index_col=False,\n",
    "    engine=\"python\",\n",
    ")\n",
    "df_unstable = pd.read_csv(\n",
    "    unstable_datapath,\n",
    "    parse_dates=[1],\n",
    "    na_values=\"NA\",\n",
    "    delimiter=\" *, *\",\n",
    "    index_col=False,\n",
    "    engine=\"python\",\n",
    ")\n",
    "df_neutral = pd.read_csv(\n",
    "    neutral_datapath,\n",
    "    parse_dates=[1],\n",
    "    na_values=\"NA\",\n",
    "    delimiter=\" *, *\",\n",
    "    index_col=False,\n",
    "    engine=\"python\",\n",
    ")"
   ]
  },
  {
   "attachments": {},
   "cell_type": "markdown",
   "metadata": {},
   "source": [
    "## Create footprints using the Hsieh model\n",
    "\n",
    "Note:\n",
    "The default for 'workers' is 1, which is no parallelization.  \n",
    "Here we have set 'workers=-1' which implements parallelization in the rotations and interpolation steps and runs faster.  \n",
    "We have set resolution to 2 m. Coarser resolutions will run faster."
   ]
  },
  {
   "cell_type": "code",
   "execution_count": null,
   "metadata": {},
   "outputs": [],
   "source": [
    "demo_foots_Hsieh = ef.calc_footprint(\n",
    "    air_pressure=df_demo.air_pressure,\n",
    "    air_temperature=df_demo.air_temperature,\n",
    "    friction_velocity=df_demo.friction_velocity,\n",
    "    wind_speed=df_demo.wind_speed,\n",
    "    cross_wind_variance=df_demo.v_var,\n",
    "    wind_direction=df_demo.wind_dir,\n",
    "    monin_obukhov_length=df_demo.L,\n",
    "    time=df_demo.datetime,\n",
    "    instrument_height=2.53,\n",
    "    roughness_length=0.0206,\n",
    "    workers=-1,\n",
    "    resolution=2,\n",
    ")"
   ]
  },
  {
   "attachments": {},
   "cell_type": "markdown",
   "metadata": {},
   "source": [
    "## Create footprints using the Kormann & Meixner model"
   ]
  },
  {
   "cell_type": "code",
   "execution_count": null,
   "metadata": {},
   "outputs": [],
   "source": [
    "demo_foots_KM = ef.calc_footprint(\n",
    "    air_pressure=df_demo.air_pressure,\n",
    "    air_temperature=df_demo.air_temperature,\n",
    "    friction_velocity=df_demo.friction_velocity,\n",
    "    wind_speed=df_demo.wind_speed,\n",
    "    cross_wind_variance=df_demo.v_var,\n",
    "    wind_direction=df_demo.wind_dir,\n",
    "    monin_obukhov_length=df_demo.L,\n",
    "    time=df_demo.datetime,\n",
    "    instrument_height=2.53,\n",
    "    roughness_length=0.0206,\n",
    "    workers=-1,\n",
    "    method=\"Kormann & Meixner\",\n",
    "    resolution=2,\n",
    ")"
   ]
  },
  {
   "attachments": {},
   "cell_type": "markdown",
   "metadata": {},
   "source": [
    "## Plot footprint climatologies"
   ]
  },
  {
   "attachments": {},
   "cell_type": "markdown",
   "metadata": {},
   "source": [
    "Stack of demo footprints (one day of half-hourly fluxes from July 12th 2020)"
   ]
  },
  {
   "cell_type": "code",
   "execution_count": null,
   "metadata": {},
   "outputs": [],
   "source": [
    "stack_H = demo_foots_Hsieh.sum(dim=\"time\")\n",
    "stack_KM = demo_foots_KM.sum(dim=\"time\")"
   ]
  },
  {
   "cell_type": "markdown",
   "metadata": {},
   "source": [
    "Note that xarray objects have full matplotlib functionality."
   ]
  },
  {
   "cell_type": "code",
   "execution_count": null,
   "metadata": {},
   "outputs": [],
   "source": [
    "fig, axes = plt.subplots(nrows=1, ncols=2, figsize=(10, 4))\n",
    "\n",
    "stack_H.plot(\n",
    "    x=\"x\", y=\"y\", ax=axes[0], vmin=0, vmax=0.015, cmap=\"Reds\", add_colorbar=False\n",
    ")\n",
    "axes[0].set_xlim([-100, 100])\n",
    "axes[0].set_xlabel(\"X\", fontsize=15)\n",
    "axes[0].set_ylim([-100, 100])\n",
    "axes[0].set_ylabel(\"Y\", fontsize=15)\n",
    "axes[0].set_title(\"Hsieh composite 7/12/2020\", fontsize=18, pad=+10, x=0.35)\n",
    "axes[0].plot(0, 0, marker=\".\", color=\"black\", markersize=10)\n",
    "axes[0].tick_params(labelsize=12)\n",
    "\n",
    "im = stack_KM.plot(\n",
    "    x=\"x\", y=\"y\", ax=axes[1], vmin=0, vmax=0.015, cmap=\"Reds\", add_colorbar=False\n",
    ")\n",
    "axes[1].set_xlim([-100, 100])\n",
    "axes[1].set_xlabel(\"X\", fontsize=15)\n",
    "axes[1].set_ylim([-100, 100])\n",
    "axes[1].set_ylabel(\"Y\", fontsize=15)\n",
    "axes[1].set_title(\"Kormann & Meixner composite 7/12/2020\", fontsize=18, pad=+10)\n",
    "axes[1].plot(0, 0, marker=\".\", color=\"black\", markersize=10)\n",
    "axes[1].tick_params(labelsize=12)\n",
    "cb = plt.colorbar(im, orientation=\"vertical\", pad=0.05)\n",
    "cb.set_label(label=\"pxiel weight\", fontsize=18)\n",
    "cb.ax.tick_params(labelsize=12)\n",
    "axes[0].set_aspect(\"equal\")\n",
    "axes[1].set_aspect(\"equal\")\n",
    "fig.tight_layout()\n",
    "fig.subplots_adjust(wspace=0)"
   ]
  },
  {
   "attachments": {},
   "cell_type": "markdown",
   "metadata": {},
   "source": [
    "Plot multiple footprints in the timeseries as a facetgrid\n",
    "\n",
    "1. Slice a subset to plot\n",
    "2. Make facetgrid\n",
    "3. Add marker for the tower location at 0,0"
   ]
  },
  {
   "cell_type": "code",
   "execution_count": null,
   "metadata": {},
   "outputs": [],
   "source": [
    "time_slice = demo_foots_Hsieh.isel(time=slice(0, 6, 1))\n",
    "print(time_slice.coords)\n",
    "fig_facet = time_slice.plot(\n",
    "    x=\"x\",\n",
    "    y=\"y\",\n",
    "    col=\"time\",\n",
    "    col_wrap=3,\n",
    "    cmap=\"Reds\",\n",
    "    vmax=2e-5,\n",
    "    cbar_kwargs={\"label\": \"pixel weight\"},\n",
    ")\n",
    "fig_facet.map(lambda: plt.plot(0, 0, marker=\".\", color=\"black\", markersize=10))\n",
    "fig_facet.cbar.ax.tick_params(labelsize=11)\n",
    "fig_facet.cbar.set_label(fontsize=15, label=\"pixel weight\")\n",
    "fig_facet.set_titles(fontsize=11)\n",
    "fig_facet.set_xlabels(\"X\", fontsize=12)\n",
    "fig_facet.set_ylabels(\"Y\", fontsize=12)\n",
    "fig_facet.set_ticks(fontsize=11)\n",
    "plt.xlim(-250, 250)\n",
    "plt.ylim(-250, 250)"
   ]
  },
  {
   "attachments": {},
   "cell_type": "markdown",
   "metadata": {},
   "source": [
    "## Export xarray dataset as netcdf"
   ]
  },
  {
   "cell_type": "code",
   "execution_count": null,
   "metadata": {},
   "outputs": [],
   "source": [
    "netcdf_path = \"../data/demo_footprints_Hsieh.nc\"\n",
    "demo_foots_Hsieh.to_netcdf(netcdf_path)"
   ]
  },
  {
   "attachments": {},
   "cell_type": "markdown",
   "metadata": {},
   "source": [
    "## Explore footprints from different atmospheric conditions"
   ]
  },
  {
   "attachments": {},
   "cell_type": "markdown",
   "metadata": {},
   "source": [
    "Create footprints using the Hsieh model for the three test regimes.  \n",
    "Resolution is set much higher (1 m)."
   ]
  },
  {
   "cell_type": "code",
   "execution_count": null,
   "metadata": {},
   "outputs": [],
   "source": [
    "stable_foots_Hsieh = ef.calc_footprint(\n",
    "    air_pressure=df_stable.air_pressure,\n",
    "    air_temperature=df_stable.air_temperature,\n",
    "    friction_velocity=df_stable.friction_velocity,\n",
    "    wind_speed=df_stable.wind_speed,\n",
    "    cross_wind_variance=df_stable.v_var,\n",
    "    wind_direction=df_stable.wind_dir,\n",
    "    monin_obukhov_length=df_stable.L,\n",
    "    time=df_stable.datetime,\n",
    "    instrument_height=2.53,\n",
    "    roughness_length=0.0206,\n",
    "    workers=-1,\n",
    "    resolution=1,\n",
    ")\n",
    "unstable_foots_Hsieh = ef.calc_footprint(\n",
    "    air_pressure=df_unstable.air_pressure,\n",
    "    air_temperature=df_unstable.air_temperature,\n",
    "    friction_velocity=df_unstable.friction_velocity,\n",
    "    wind_speed=df_unstable.wind_speed,\n",
    "    cross_wind_variance=df_unstable.v_var,\n",
    "    wind_direction=df_unstable.wind_dir,\n",
    "    monin_obukhov_length=df_unstable.L,\n",
    "    time=df_unstable.datetime,\n",
    "    instrument_height=2.53,\n",
    "    roughness_length=0.0206,\n",
    "    workers=-1,\n",
    "    resolution=1,\n",
    ")\n",
    "neutral_foots_Hsieh = ef.calc_footprint(\n",
    "    air_pressure=df_neutral.air_pressure,\n",
    "    air_temperature=df_neutral.air_temperature,\n",
    "    friction_velocity=df_neutral.friction_velocity,\n",
    "    wind_speed=df_neutral.wind_speed,\n",
    "    cross_wind_variance=df_neutral.v_var,\n",
    "    wind_direction=df_neutral.wind_dir,\n",
    "    monin_obukhov_length=df_neutral.L,\n",
    "    time=df_neutral.datetime,\n",
    "    instrument_height=2.53,\n",
    "    roughness_length=0.0206,\n",
    "    workers=-1,\n",
    "    resolution=1,\n",
    ")"
   ]
  },
  {
   "attachments": {},
   "cell_type": "markdown",
   "metadata": {},
   "source": [
    "Create footprints using the Kormann & Meixner model for the two test regimes\n",
    "\n",
    "Note:  \n",
    "The Kormann & Meixner model should not be used for neutral or near-neutral conditions."
   ]
  },
  {
   "cell_type": "code",
   "execution_count": null,
   "metadata": {},
   "outputs": [],
   "source": [
    "stable_foots_KM = ef.calc_footprint(\n",
    "    air_pressure=df_stable.air_pressure,\n",
    "    air_temperature=df_stable.air_temperature,\n",
    "    friction_velocity=df_stable.friction_velocity,\n",
    "    wind_speed=df_stable.wind_speed,\n",
    "    cross_wind_variance=df_stable.v_var,\n",
    "    wind_direction=df_stable.wind_dir,\n",
    "    monin_obukhov_length=df_stable.L,\n",
    "    time=df_stable.datetime,\n",
    "    instrument_height=2.53,\n",
    "    roughness_length=0.0206,\n",
    "    workers=-1,\n",
    "    method=\"Kormann & Meixner\",\n",
    "    resolution=1,\n",
    ")\n",
    "unstable_foots_KM = ef.calc_footprint(\n",
    "    air_pressure=df_unstable.air_pressure,\n",
    "    air_temperature=df_unstable.air_temperature,\n",
    "    friction_velocity=df_unstable.friction_velocity,\n",
    "    wind_speed=df_unstable.wind_speed,\n",
    "    cross_wind_variance=df_unstable.v_var,\n",
    "    wind_direction=df_unstable.wind_dir,\n",
    "    monin_obukhov_length=df_unstable.L,\n",
    "    time=df_unstable.datetime,\n",
    "    instrument_height=2.53,\n",
    "    roughness_length=0.0206,\n",
    "    workers=-1,\n",
    "    method=\"Kormann & Meixner\",\n",
    "    resolution=1,\n",
    ")"
   ]
  },
  {
   "attachments": {},
   "cell_type": "markdown",
   "metadata": {},
   "source": [
    "Plot the footprints from different atmospheric conditions:"
   ]
  },
  {
   "cell_type": "code",
   "execution_count": null,
   "metadata": {},
   "outputs": [],
   "source": [
    "fig, axes = plt.subplots(nrows=1, ncols=3, figsize=(12, 3))\n",
    "\n",
    "stable_foots_Hsieh.isel(time=1).plot(x=\"x\", y=\"y\", ax=axes[0], cmap=\"Reds\")\n",
    "axes[0].set_xlim([-100, 100])\n",
    "axes[0].set_ylim([-100, 100])\n",
    "axes[0].plot(0, 0, marker=\".\", color=\"black\", markersize=10)\n",
    "axes[0].set_title(\"Hsieh stable\")\n",
    "\n",
    "unstable_foots_Hsieh.isel(time=1).plot(x=\"x\", y=\"y\", ax=axes[1], cmap=\"Reds\")\n",
    "axes[1].set_xlim([-100, 100])\n",
    "axes[1].set_ylim([-100, 100])\n",
    "axes[1].plot(0, 0, marker=\".\", color=\"black\", markersize=10)\n",
    "axes[1].set_title(\"Hsieh unstable\")\n",
    "\n",
    "neutral_foots_Hsieh.isel(time=1).plot(x=\"x\", y=\"y\", ax=axes[2], cmap=\"Reds\")\n",
    "axes[2].set_xlim([-100, 100])\n",
    "axes[2].set_ylim([-100, 100])\n",
    "axes[2].plot(0, 0, marker=\".\", color=\"black\", markersize=10)\n",
    "axes[2].set_title(\"Hsieh near neutral\")\n",
    "\n",
    "fig.tight_layout()"
   ]
  },
  {
   "cell_type": "code",
   "execution_count": null,
   "metadata": {},
   "outputs": [],
   "source": []
  }
 ],
 "metadata": {
  "kernelspec": {
   "display_name": "eddy-footprint",
   "language": "python",
   "name": "python3"
  },
  "language_info": {
   "codemirror_mode": {
    "name": "ipython",
    "version": 3
   },
   "file_extension": ".py",
   "mimetype": "text/x-python",
   "name": "python",
   "nbconvert_exporter": "python",
   "pygments_lexer": "ipython3",
   "version": "3.12.0"
  }
 },
 "nbformat": 4,
 "nbformat_minor": 2
}
